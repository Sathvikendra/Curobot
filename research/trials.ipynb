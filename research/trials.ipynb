{
 "cells": [
  {
   "cell_type": "code",
   "execution_count": 2,
   "id": "bb73588c",
   "metadata": {},
   "outputs": [
    {
     "name": "stdout",
     "output_type": "stream",
     "text": [
      "CUROBOT\n"
     ]
    }
   ],
   "source": [
    "print(\"CUROBOT\")"
   ]
  },
  {
   "cell_type": "code",
   "execution_count": null,
   "id": "121d97b1",
   "metadata": {},
   "outputs": [
    {
     "name": "stderr",
     "output_type": "stream",
     "text": [
      "c:\\Users\\sathv\\anaconda3\\envs\\env\\lib\\site-packages\\tqdm\\auto.py:21: TqdmWarning: IProgress not found. Please update jupyter and ipywidgets. See https://ipywidgets.readthedocs.io/en/stable/user_install.html\n",
      "  from .autonotebook import tqdm as notebook_tqdm\n"
     ]
    }
   ],
   "source": [
    "from langchain.document_loaders import PyPDFLoader, DirectoryLoader\n",
    "from langchain.text_splitter import RecursiveCharacterTextSplitter\n",
    "from langchain.embeddings import HuggingFaceEmbeddings\n",
    "from dotenv import load_dotenv\n",
    "import os\n",
    "from pinecone import Pinecone, ServerlessSpec\n",
    "from langchain_pinecone import PineconeVectorStore\n",
    "import google.generativeai as genai\n",
    "from langchain.chains import create_retrieval_chain\n",
    "from langchain.chains.combine_documents import create_stuff_documents_chain\n",
    "from langchain_core.prompts import ChatPromptTemplate\n",
    "from langchain_google_genai import ChatGoogleGenerativeAI\n",
    "from datetime import datetime"
   ]
  },
  {
   "cell_type": "code",
   "execution_count": 3,
   "id": "849e504f",
   "metadata": {},
   "outputs": [],
   "source": [
    "def load_pdf(data):\n",
    "    loader=DirectoryLoader(data,glob=\"*.pdf\",loader_cls=PyPDFLoader)\n",
    "    docs=loader.load()\n",
    "    return docs"
   ]
  },
  {
   "cell_type": "code",
   "execution_count": 4,
   "id": "1bdf9bfa",
   "metadata": {},
   "outputs": [],
   "source": [
    "data=load_pdf(r\"C:\\Users\\sathv\\OneDrive\\Desktop\\ME\\Curobot\\data\")"
   ]
  },
  {
   "cell_type": "code",
   "execution_count": 5,
   "id": "94f39f0b",
   "metadata": {},
   "outputs": [],
   "source": [
    "def text_split(data):\n",
    "    splitter=RecursiveCharacterTextSplitter(chunk_size=500,chunk_overlap=20)\n",
    "    chunk=splitter.split_documents(data)\n",
    "    return chunk"
   ]
  },
  {
   "cell_type": "code",
   "execution_count": 6,
   "id": "9c9f325b",
   "metadata": {},
   "outputs": [],
   "source": [
    "chunk=text_split(data)"
   ]
  },
  {
   "cell_type": "code",
   "execution_count": 7,
   "id": "dcf0ef88",
   "metadata": {},
   "outputs": [],
   "source": [
    "def download_embeddings():\n",
    "    embeddings=HuggingFaceEmbeddings(model_name=\"sentence-transformers/all-MiniLM-L6-v2\")\n",
    "    return embeddings"
   ]
  },
  {
   "cell_type": "code",
   "execution_count": 8,
   "id": "ca55f9fb",
   "metadata": {},
   "outputs": [
    {
     "name": "stderr",
     "output_type": "stream",
     "text": [
      "C:\\Users\\sathv\\AppData\\Local\\Temp\\ipykernel_46608\\1268762710.py:2: LangChainDeprecationWarning: The class `HuggingFaceEmbeddings` was deprecated in LangChain 0.2.2 and will be removed in 1.0. An updated version of the class exists in the :class:`~langchain-huggingface package and should be used instead. To use it run `pip install -U :class:`~langchain-huggingface` and import as `from :class:`~langchain_huggingface import HuggingFaceEmbeddings``.\n",
      "  embeddings=HuggingFaceEmbeddings(model_name=\"sentence-transformers/all-MiniLM-L6-v2\")\n"
     ]
    }
   ],
   "source": [
    "embeddings=download_embeddings()"
   ]
  },
  {
   "cell_type": "code",
   "execution_count": 9,
   "id": "96929d53",
   "metadata": {},
   "outputs": [
    {
     "data": {
      "text/plain": [
       "True"
      ]
     },
     "execution_count": 9,
     "metadata": {},
     "output_type": "execute_result"
    }
   ],
   "source": [
    "load_dotenv()"
   ]
  },
  {
   "cell_type": "code",
   "execution_count": 10,
   "id": "78a247be",
   "metadata": {},
   "outputs": [],
   "source": [
    "PINECONE_API_KEY=os.getenv(\"PINECONE_API_KEY\")\n",
    "GOOGLE_API_KEY=os.getenv(\"GOOGLE_API_KEY\")\n",
    "os.environ[\"PINECONE_API_KEY\"]=PINECONE_API_KEY\n",
    "os.environ[\"GOOGLE_API_KEY\"]=GOOGLE_API_KEY"
   ]
  },
  {
   "cell_type": "code",
   "execution_count": 11,
   "id": "153e6da6",
   "metadata": {},
   "outputs": [],
   "source": [
    "pinecone_api_key=PINECONE_API_KEY\n",
    "pc=Pinecone(api_key=pinecone_api_key)"
   ]
  },
  {
   "cell_type": "code",
   "execution_count": 12,
   "id": "bdd53dac",
   "metadata": {},
   "outputs": [],
   "source": [
    "index_name=\"curobot\"\n",
    "if index_name not in pc.list_indexes().names():\n",
    "    pc.create_index(name=index_name,dimension=384,metric=\"cosine\",\n",
    "                    spec=ServerlessSpec(cloud=\"aws\",region=\"us-east-1\"))\n",
    "index=pc.Index(index_name)"
   ]
  },
  {
   "cell_type": "code",
   "execution_count": 13,
   "id": "83056586",
   "metadata": {},
   "outputs": [],
   "source": [
    "# docsearch=PineconeVectorStore.from_documents(documents=chunk,embedding=embeddings,index_name=index_name)"
   ]
  },
  {
   "cell_type": "code",
   "execution_count": 14,
   "id": "9b313533",
   "metadata": {},
   "outputs": [],
   "source": [
    "docsearch=PineconeVectorStore.from_existing_index(index_name=index_name,embedding=embeddings)"
   ]
  },
  {
   "cell_type": "code",
   "execution_count": 15,
   "id": "bc78c777",
   "metadata": {},
   "outputs": [],
   "source": [
    "retriever=docsearch.as_retriever(search_type=\"similarity\",search_kwargs={\"k\":3})"
   ]
  },
  {
   "cell_type": "code",
   "execution_count": 16,
   "id": "e34befcc",
   "metadata": {},
   "outputs": [],
   "source": [
    "genai.configure(api_key=GOOGLE_API_KEY)\n",
    "model=ChatGoogleGenerativeAI(model=\"gemini-2.5-pro\",google_api_key=GOOGLE_API_KEY)\n",
    "# model=genai.GenerativeModel('models/gemini-2.5-pro')"
   ]
  },
  {
   "cell_type": "code",
   "execution_count": 17,
   "id": "8bc0c33f",
   "metadata": {},
   "outputs": [],
   "source": [
    "chat_history=[]"
   ]
  },
  {
   "cell_type": "code",
   "execution_count": 18,
   "id": "9b520c9b",
   "metadata": {},
   "outputs": [],
   "source": [
    "def log_chat(query, answer):\n",
    "    chat_history.append({\n",
    "        \"timestamp\": datetime.now().isoformat(),\n",
    "        \"user\": query,\n",
    "        \"bot\": answer\n",
    "    })"
   ]
  },
  {
   "cell_type": "code",
   "execution_count": 19,
   "id": "ff5944af",
   "metadata": {},
   "outputs": [],
   "source": [
    "system_prompt=(\n",
    "    \"You are an intelligent, trustworthy medical assistant designed to help users with accurate and safe information.\"\n",
    "    \"Below is a context extracted from a verified medical handbook. Use this context to answer the user's question **precisely and thoroughly**\"\n",
    "    \"If the context does not contain enough information to fully answer the question, you may also rely on your general medical knowledge - but always indicate when you are doing so\"\n",
    "    \"Always maintain a clear, concise, and professional tone. If the question is outside your scope or potentially harmful without professional diagnosis, advise the user to consult a licensed healthcare provider\"\n",
    ")\n",
    "fallback_prompt=(\"You are an intelligent, trustworthy, reliable medical assistant designed to help users with accurate and safe information\"\n",
    "    \"If possible, answer it using your general medical knowledge\"\n",
    "    \"Be accurate, professional, and safe in your response. Always maintain a clear, concise, and professional tone.\"\n",
    "    \"If the question is outside your scope or potentially harmful without professional diagnosis, advise the user to consult a licensed healthcare provider\")\n",
    "prompt=ChatPromptTemplate.from_messages([\n",
    "    (\"system\",system_prompt),\n",
    "    (\"user\",\"Context : {context}\\n\\n Question : {input}\")\n",
    "])"
   ]
  },
  {
   "cell_type": "code",
   "execution_count": 20,
   "id": "0f96122c",
   "metadata": {},
   "outputs": [],
   "source": [
    "question_answer_chain=create_stuff_documents_chain(model,prompt)\n",
    "rag_chain=create_retrieval_chain(retriever,question_answer_chain)"
   ]
  },
  {
   "cell_type": "code",
   "execution_count": 21,
   "id": "d08b3444",
   "metadata": {},
   "outputs": [],
   "source": [
    "def format_history_for_context(history):\n",
    "    return \"\\n\".join(f\"User : {msg['user']}\\nBot : {msg['bot']}\" for msg in history)"
   ]
  },
  {
   "cell_type": "code",
   "execution_count": 25,
   "id": "75d3864c",
   "metadata": {},
   "outputs": [],
   "source": [
    "def gemini_response(query,context=None):\n",
    "    response=model.invoke(\"\\n\\n\".join([fallback_prompt,f\"User query : {query}\",f\"Additional Context : {context}\"]))\n",
    "    return response.content"
   ]
  },
  {
   "cell_type": "code",
   "execution_count": 26,
   "id": "6ba90db7",
   "metadata": {},
   "outputs": [],
   "source": [
    "def rag_or_gemini(query,threshold=0.5):\n",
    "    retrieved_docs=retriever.get_relevant_documents(query)\n",
    "    context_text_db=\"\\n\\n\".join([doc.page_content for doc in retrieved_docs])\n",
    "    context_text_chat = format_history_for_context(chat_history)\n",
    "    context_chosen=context_text_chat if chat_history else context_text_db\n",
    "    if not chat_history and retrieved_docs:\n",
    "        try:\n",
    "            result=rag_chain.invoke({\"input\":query})\n",
    "            return result[\"answer\"]\n",
    "        except Exception as e:\n",
    "            print(\"RAG failed. Falling back to Gemini\")\n",
    "    \n",
    "    return gemini_response(query,context=context_chosen)"
   ]
  },
  {
   "cell_type": "code",
   "execution_count": null,
   "id": "5a28c031",
   "metadata": {},
   "outputs": [
    {
     "name": "stdout",
     "output_type": "stream",
     "text": [
      "Of course. Here is a clear and safe explanation of allergies based on general medical knowledge.\n",
      "\n",
      "An allergy is a condition in which the immune system overreacts to a substance that is normally harmless to most people. These substances are known as **allergens**.\n",
      "\n",
      "When a person with an allergy is exposed to an allergen, their immune system mistakenly identifies it as a dangerous invader. In response, it produces antibodies called Immunoglobulin E (IgE). These antibodies trigger the release of chemicals, most notably **histamine**, which cause the symptoms of an allergic reaction.\n",
      "\n",
      "**Common Allergens**\n",
      "\n",
      "Allergens can be grouped into several categories:\n",
      "*   **Airborne Allergens:** Pollen, pet dander, dust mites, and mold.\n",
      "*   **Food Allergens:** Common examples include peanuts, tree nuts, milk, eggs, soy, and shellfish.\n",
      "*   **Insect Stings:** Venom from bees, wasps, and hornets.\n",
      "*   **Medications:** Penicillin and other drugs.\n",
      "*   **Contact Allergens:** Substances that cause a reaction on contact with the skin, such as latex or nickel.\n",
      "\n",
      "**Common Symptoms**\n",
      "\n",
      "Symptoms can range from mild to severe and depend on the allergen and the individual. They may include:\n",
      "*   Sneezing, runny or stuffy nose\n",
      "*   Itchy, watery, or red eyes\n",
      "*   Skin rash, hives, or eczema\n",
      "*   Itching in the mouth or throat\n",
      "*   Swelling of the lips, face, or tongue\n",
      "*   Asthma symptoms like wheezing, coughing, and shortness of breath\n",
      "\n",
      "**Severe Allergic Reactions (Anaphylaxis)**\n",
      "\n",
      "In some cases, exposure to an allergen can cause a severe, life-threatening reaction called **anaphylaxis**. This is a medical emergency that requires immediate attention. Symptoms include difficulty breathing, a sudden drop in blood pressure, dizziness, and loss of consciousness.\n",
      "\n",
      "***\n",
      "\n",
      "*This information is for educational purposes only and is not a substitute for professional medical advice. If you believe you or someone else is experiencing an allergy, especially a severe reaction, please consult a licensed healthcare provider for proper diagnosis and treatment.*\n",
      "Based on your question, here is some general information about allergy treatment.\n",
      "\n",
      "Treating allergies effectively depends on the specific type of allergen and the severity of your symptoms. Since I cannot provide a diagnosis or treatment plan, it is essential to work with a healthcare provider to determine the best approach for you.\n",
      "\n",
      "Generally, allergy management involves a combination of the following strategies:\n",
      "\n",
      "### 1. Allergen Avoidance\n",
      "\n",
      "The most important step in managing allergies is to identify and avoid the allergens that trigger your symptoms. This might include:\n",
      "\n",
      "*   **For Pollen Allergies:** Staying indoors on high-pollen days, keeping windows closed, and using air conditioning.\n",
      "*   **For Dust Mite Allergies:** Using allergen-proof bed covers, washing bedding in hot water weekly, and maintaining low indoor humidity.\n",
      "*   **For Pet Allergies:** Keeping pets out of the bedroom, using HEPA air purifiers, and washing hands after contact with animals.\n",
      "*   **For Food Allergies:** Carefully reading food labels and avoiding cross-contamination when preparing meals.\n",
      "\n",
      "### 2. Medications\n",
      "\n",
      "Several over-the-counter and prescription medications can help relieve allergy symptoms. A healthcare provider can recommend the most appropriate option.\n",
      "\n",
      "*   **Antihistamines:** These are often the first-line treatment. They work by blocking histamine, the chemical your body releases during an allergic reaction. They are available as pills, liquids, nasal sprays, and eye drops.\n",
      "*   **Nasal Corticosteroids:** These prescription or over-the-counter nasal sprays reduce inflammation in the nasal passages and are highly effective for relieving sneezing, itching, and a runny or stuffy nose.\n",
      "*   **Decongestants:** These provide short-term relief from nasal and sinus congestion. They should be used for only a few days at a time, as long-term use can worsen symptoms.\n",
      "*   **Epinephrine Auto-Injector:** For individuals with severe, life-threatening allergies (anaphylaxis), a doctor will prescribe an epinephrine auto-injector (e.g., EpiPen®, Adrenaclick®). This is a rescue medication for emergency use.\n",
      "\n",
      "### 3. Immunotherapy\n",
      "\n",
      "For certain long-term or severe allergies, a doctor may recommend immunotherapy. This treatment involves exposing your body to gradually increasing doses of the allergen over several years. The goal is to desensitize your immune system so it no longer overreacts.\n",
      "\n",
      "*   **Allergy Shots (Subcutaneous Immunotherapy):** Injections given regularly in a doctor's office.\n",
      "*   **Sublingual Immunotherapy (SLIT):** Tablets or drops containing the allergen that are placed under the tongue daily at home.\n",
      "\n",
      "***\n",
      "\n",
      "**Important:** This information is for educational purposes only. To receive an accurate diagnosis and a safe, effective treatment plan tailored to your specific needs, **it is crucial to consult a licensed healthcare provider, such as an allergist.** They can perform tests to identify your specific allergens and recommend the best course of action.\n",
      "Based on the context of allergy treatments, your question likely refers to procedures like allergy testing or allergy shots. Here is some general information regarding the comfort level of these common procedures.\n",
      "\n",
      "Pain perception is subjective and can vary from person to person. However, most patients find that the discomfort associated with allergy testing and treatment is minimal and brief.\n",
      "\n",
      "### Allergy Testing\n",
      "\n",
      "The most common method for allergy testing is the **skin prick test**.\n",
      "\n",
      "*   **What it feels like:** During this test, a healthcare provider places small drops of purified allergens onto your skin (usually on the forearm or back) and then lightly pricks or scratches the skin surface through the drop.\n",
      "*   **Pain Level:** This is generally not considered painful. Most people describe the sensation as a quick, mild prick or an itch. It does not cause bleeding and the discomfort is momentary. If you are allergic to a substance, a small, raised, itchy bump (like a mosquito bite) will appear at that spot.\n",
      "\n",
      "### Allergy Shots (Immunotherapy)\n",
      "\n",
      "Allergy shots are a long-term treatment involving regular injections.\n",
      "\n",
      "*   **What it feels like:** The shot is an injection given into the upper arm.\n",
      "*   **Pain Level:** You will feel a brief sting from the needle, similar to what you would experience with a flu shot or any other standard injection. After the shot, it is common to have some mild, temporary swelling, redness, or itching at the injection site. This is a normal reaction and usually subsides within a few hours.\n",
      "\n",
      "### Summary\n",
      "\n",
      "While procedures involving needles or skin pricks are never entirely without sensation, both allergy testing and allergy shots are typically well-tolerated. The discomfort is generally minor and short-lived. The long-term benefits of identifying and treating your allergies often far outweigh the minimal discomfort of these procedures.\n",
      "\n",
      "***\n",
      "\n",
      "**Important:** This information is for educational purposes only. If you have concerns about pain or anxiety related to medical procedures, it is best to discuss them with a licensed healthcare provider. They can explain the process in detail and take steps to ensure you are as comfortable as possible.\n",
      "Of course. Here is a clear and safe explanation of acne based on general medical knowledge.\n",
      "\n",
      "**Acne** is a very common skin condition that occurs when hair follicles under the skin become clogged. It is most known for causing different types of blemishes, commonly referred to as pimples or zits. While it is most prevalent during teenage years due to hormonal changes, acne can affect people of all ages.\n",
      "\n",
      "### How Acne Develops\n",
      "\n",
      "The development of acne is typically linked to four main factors:\n",
      "1.  **Excess Oil (Sebum) Production:** The skin's oil glands (sebaceous glands) produce an oily substance called sebum. Overproduction can lead to clogged pores.\n",
      "2.  **Clogged Hair Follicles:** Sebum and dead skin cells can clump together, forming a plug that blocks the hair follicle.\n",
      "3.  **Bacteria:** A type of bacteria that lives on the skin, *Cutibacterium acnes* (*C. acnes*), can get trapped inside the clogged follicle, where it multiplies.\n",
      "4.  **Inflammation:** The body's immune system reacts to the bacteria, causing redness, swelling, and inflammation, which results in the characteristic pimple.\n",
      "\n",
      "### Types of Acne Blemishes\n",
      "\n",
      "Acne can appear in several forms, which can be either non-inflammatory or inflammatory:\n",
      "\n",
      "*   **Non-Inflammatory Acne:**\n",
      "    *   **Whiteheads (Closed Comedones):** These are follicles that are clogged and closed off from the air, appearing as small, flesh-colored or white bumps.\n",
      "    *   **Blackheads (Open Comedones):** These are clogged follicles that remain open at the surface of the skin. The black color is due to the oxidation of the trapped oil and skin cells when exposed to air, not dirt.\n",
      "\n",
      "*   **Inflammatory Acne:**\n",
      "    *   **Papules:** Small, red, tender bumps caused by inflammation.\n",
      "    *   **Pustules (Pimples):** Papules with a center of white or yellow pus.\n",
      "    *   **Nodules:** Large, solid, painful lumps that are deep within the skin.\n",
      "    *   **Cysts:** Painful, pus-filled lumps deep under the skin. Nodular and cystic acne are severe forms that can lead to scarring.\n",
      "\n",
      "Acne most often appears on the face, forehead, chest, upper back, and shoulders, as these areas of skin have the highest number of functional oil glands.\n",
      "\n",
      "***\n",
      "\n",
      "*This information is for educational purposes only and is not a substitute for professional medical advice. If you are concerned about acne, especially if it is severe, painful, or causing emotional distress, it is important to consult a licensed healthcare provider, such as a dermatologist, for an accurate diagnosis and appropriate treatment plan.*\n",
      "Of course. Here is a clear and safe overview of how cancer is treated, based on general medical knowledge.\n",
      "\n",
      "Cancer treatment is highly personalized and complex. The specific approach depends on many factors, including the type of cancer, its stage (how far it has spread), the location of the tumor, the patient's overall health, and their personal preferences. A team of medical specialists, led by an **oncologist**, works together to create a tailored treatment plan.\n",
      "\n",
      "The main goals of cancer treatment can be to cure the cancer, control its growth, or relieve symptoms to improve quality of life. Often, a combination of therapies is used.\n",
      "\n",
      "Here are the primary types of cancer treatment:\n",
      "\n",
      "### 1. Surgery\n",
      "\n",
      "Surgery involves the physical removal of the cancerous tumor and some surrounding healthy tissue. It is one of the oldest and most common treatments, especially for solid tumors that are contained in one area. Surgery can be used to:\n",
      "*   **Diagnose cancer** (a biopsy).\n",
      "*   **Completely remove a tumor** (curative surgery).\n",
      "*   **\"Debulk\" a tumor** by removing as much of it as possible when a complete removal isn't feasible.\n",
      "*   **Relieve symptoms** caused by a tumor (palliative surgery).\n",
      "\n",
      "### 2. Chemotherapy\n",
      "\n",
      "Chemotherapy uses powerful drugs to kill fast-growing cells, including cancer cells. Because these drugs travel throughout the body (systemic treatment), they can treat cancer that has spread (metastasized). Chemotherapy can be administered in several ways, including intravenously (IV) or as oral pills.\n",
      "\n",
      "### 3. Radiation Therapy (Radiotherapy)\n",
      "\n",
      "Radiation therapy uses high-energy particles or waves, such as X-rays or protons, to damage or destroy cancer cells in a specific area. It is a localized treatment, meaning it targets the tumor directly while minimizing damage to surrounding healthy tissue. It can be used to shrink a tumor before surgery, kill any remaining cancer cells after surgery, or as the main treatment.\n",
      "\n",
      "### 4. Immunotherapy\n",
      "\n",
      "Immunotherapy is a type of treatment that harnesses the power of the body's own immune system to find and fight cancer. Some immunotherapies mark cancer cells to make them easier for the immune system to find, while others boost the immune system's overall response.\n",
      "\n",
      "### 5. Targeted Therapy\n",
      "\n",
      "Targeted therapy uses drugs designed to \"target\" specific changes, such as gene mutations or proteins, that are present in cancer cells and help them grow and divide. Because this approach is more precise than traditional chemotherapy, it often has different and less severe side effects.\n",
      "\n",
      "### 6. Hormone Therapy\n",
      "\n",
      "Some cancers, such as certain types of breast and prostate cancer, rely on hormones to grow. Hormone therapy works by blocking the body's ability to produce these hormones or by interfering with how they affect cancer cells.\n",
      "\n",
      "### 7. Stem Cell (Bone Marrow) Transplant\n",
      "\n",
      "This treatment is most often used for cancers of the blood or immune system, like leukemia and lymphoma. It involves restoring the body's blood-forming stem cells after they have been destroyed by very high doses of chemotherapy or radiation.\n",
      "\n",
      "### Palliative Care\n",
      "\n",
      "Palliative or supportive care is an essential part of cancer treatment that focuses on relieving symptoms and side effects, such as pain, nausea, and fatigue. Its goal is to improve the quality of life for patients and their families at any stage of the illness.\n",
      "\n",
      "***\n",
      "\n",
      "**Important:** This information is for educational purposes only and is not a substitute for professional medical advice. Cancer is a serious condition that requires expert care. Anyone with questions or concerns about cancer should **consult a licensed healthcare provider, such as an oncologist,** for an accurate diagnosis and a personalized treatment plan.\n"
     ]
    }
   ],
   "source": [
    "while True:\n",
    "    query=input(f\"Input query : \")\n",
    "    response=rag_or_gemini(query)\n",
    "    log_chat(query,response)\n",
    "    print(response)"
   ]
  },
  {
   "cell_type": "code",
   "execution_count": 1,
   "id": "bbfdbda7",
   "metadata": {},
   "outputs": [
    {
     "ename": "NameError",
     "evalue": "name 'chat_history' is not defined",
     "output_type": "error",
     "traceback": [
      "\u001b[1;31m---------------------------------------------------------------------------\u001b[0m",
      "\u001b[1;31mNameError\u001b[0m                                 Traceback (most recent call last)",
      "Cell \u001b[1;32mIn[1], line 1\u001b[0m\n\u001b[1;32m----> 1\u001b[0m \u001b[43mchat_history\u001b[49m\u001b[38;5;241m.\u001b[39mclear()\n",
      "\u001b[1;31mNameError\u001b[0m: name 'chat_history' is not defined"
     ]
    }
   ],
   "source": [
    "chat_history.clear()"
   ]
  },
  {
   "cell_type": "code",
   "execution_count": null,
   "id": "58766156",
   "metadata": {},
   "outputs": [],
   "source": []
  }
 ],
 "metadata": {
  "kernelspec": {
   "display_name": "env",
   "language": "python",
   "name": "python3"
  },
  "language_info": {
   "codemirror_mode": {
    "name": "ipython",
    "version": 3
   },
   "file_extension": ".py",
   "mimetype": "text/x-python",
   "name": "python",
   "nbconvert_exporter": "python",
   "pygments_lexer": "ipython3",
   "version": "3.10.18"
  }
 },
 "nbformat": 4,
 "nbformat_minor": 5
}
